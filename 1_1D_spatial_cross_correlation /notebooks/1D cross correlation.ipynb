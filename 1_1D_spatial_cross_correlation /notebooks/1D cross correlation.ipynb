{
 "cells": [
  {
   "cell_type": "markdown",
   "metadata": {},
   "source": [
    "# Question 1"
   ]
  },
  {
   "cell_type": "markdown",
   "metadata": {},
   "source": [
    "Using basic data structures"
   ]
  },
  {
   "cell_type": "code",
   "execution_count": 81,
   "metadata": {},
   "outputs": [],
   "source": [
    "# Question one: using basic python structures\n",
    "\n",
    "def CrossCorr(template=[1, 2, 2, 1], pattern=[0, 1, 1, 0, 1, 2, 2, 1, 0, 0, 0]): \n",
    "    '''Calculates the cross correlation of two lists'''\n",
    "    # get length of inputs\n",
    "    lt=len(template)\n",
    "    lp=len(pattern)\n",
    "\n",
    "    # handles edge case if pattern is shorter than template: left pads pattern with zeros\n",
    "    if lp < lt:\n",
    "        zeros = [0]*(lt-lp)   # zero used to pad array\n",
    "        pattern=zeros+pattern # concatinate lists\n",
    "        lp=len(pattern)       # update pattern\n",
    "\n",
    "    # inititalise output\n",
    "    cc=[]\n",
    "    for i in range(lp-lt+1):\n",
    "        # extract four elements from pattern\n",
    "        sub_pattern=[pattern[j] for j in range(i,i+lt)]\n",
    "\n",
    "        # element wise multiplication\n",
    "        eltmult =[sub_pattern[j]*template[j] for j in range(lt)]\n",
    "\n",
    "        # sum to get cross corrlation\n",
    "        cc.append(sum(eltmult))\n",
    "\n",
    "    return(cc)"
   ]
  },
  {
   "cell_type": "code",
   "execution_count": 91,
   "metadata": {},
   "outputs": [
    {
     "name": "stdout",
     "output_type": "stream",
     "text": [
      "Function passes for input: [4, 4, 5, 8, 10, 8, 4, 1]\n"
     ]
    }
   ],
   "source": [
    "# test\n",
    "expected=[4, 4, 5, 8, 10, 8, 4, 1]\n",
    "\n",
    "if CrossCorr() == expected:\n",
    "    print(f'Function passes for input: {expected}')\n",
    "else:\n",
    "    print(f'Function fails. Expected {expected}, actual: {test}')\n"
   ]
  },
  {
   "cell_type": "markdown",
   "metadata": {},
   "source": [
    "Let's give numpy a go"
   ]
  },
  {
   "cell_type": "code",
   "execution_count": 87,
   "metadata": {},
   "outputs": [],
   "source": [
    "def CrossCorr_np(template=[1, 2, 2, 1], pattern=[0, 1, 1, 0, 1, 2, 2, 1, 0, 0, 0]): \n",
    "    \n",
    "    # get length of inputs\n",
    "    lt=len(template)\n",
    "    lp=len(pattern)\n",
    "    \n",
    "    # handles edge case if pattern is shorter than template: left pads pattern with zeros  (np.correlate treates this edgecase differently that how I want, so I use pad with zeros)\n",
    "    if lp < lt:\n",
    "        zeros = [0]*(lt-lp)   # zero matrix to left pad pattern\n",
    "        pattern=zeros+pattern # concatinate lists\n",
    "        lp=len(pattern)       # update pattern\n",
    "        \n",
    "    cc=np.correlate(np.array(pattern),np.array(template)) # convert template and pattern to array and take cc\n",
    "    return(list(cc))\n"
   ]
  },
  {
   "cell_type": "code",
   "execution_count": 88,
   "metadata": {},
   "outputs": [
    {
     "name": "stdout",
     "output_type": "stream",
     "text": [
      "test passes for input: [4, 4, 5, 8, 10, 8, 4, 1]\n"
     ]
    }
   ],
   "source": [
    "# test\n",
    "expected=[4, 4, 5, 8, 10, 8, 4, 1]\n",
    "\n",
    "if CrossCorr_np() == expected:\n",
    "    print(f'Function passes for input: {expected}')\n",
    "else:\n",
    "    print(f'Function fails. Expected {expected}, actual: {CrossCorr}')\n"
   ]
  },
  {
   "cell_type": "markdown",
   "metadata": {},
   "source": [
    "## Part B"
   ]
  },
  {
   "cell_type": "code",
   "execution_count": 76,
   "metadata": {},
   "outputs": [],
   "source": [
    "# using data structures\n",
    "def GetIndex(score_array=[4, 4, 5, 8, 10, 8, 4, 1]):\n",
    "    smax=max(score_array)      # find max\n",
    "    si=score_array.index(smax) # get location\n",
    "    return(si,smax)\n",
    "    "
   ]
  },
  {
   "cell_type": "code",
   "execution_count": 99,
   "metadata": {},
   "outputs": [
    {
     "name": "stdout",
     "output_type": "stream",
     "text": [
      "test passes for input: (4, 10)\n"
     ]
    }
   ],
   "source": [
    "# test\n",
    "expected=(4, 10)\n",
    "\n",
    "if GetIndex() == expected:\n",
    "    print(f'test passes for input: {expected}')\n",
    "else:\n",
    "    print(f'test fails. Expected {expected}, actual: {CrossCorr_np()}')"
   ]
  },
  {
   "cell_type": "code",
   "execution_count": 133,
   "metadata": {},
   "outputs": [],
   "source": [
    "# using numpy\n",
    "def GetIndex_np(score_array=[4, 4, 5, 8, 10, 8, 4, 1]):\n",
    "    score_array=np.array(score_array)\n",
    "    smax=score_array.max()      # find max\n",
    "    si=np.where(score_array == np.amax(score_array))[0][0]\n",
    "    return(si,smax)"
   ]
  },
  {
   "cell_type": "code",
   "execution_count": 134,
   "metadata": {},
   "outputs": [
    {
     "name": "stdout",
     "output_type": "stream",
     "text": [
      "test passes for input: (4, 10)\n"
     ]
    }
   ],
   "source": [
    "# test\n",
    "expected=(4, 10)\n",
    "\n",
    "if GetIndex_np() == expected:\n",
    "    print(f'test passes for input: {expected}')\n",
    "else:\n",
    "    print(f'test fails. Expected {expected}, actual: {GetIndex_np()}')"
   ]
  },
  {
   "cell_type": "markdown",
   "metadata": {},
   "source": [
    "# Question 2 & 3"
   ]
  },
  {
   "cell_type": "code",
   "execution_count": 164,
   "metadata": {},
   "outputs": [],
   "source": [
    "def EnergyNorm(pattern=[0, 1, 1, 2], template_slice=[1, 1, 0, 2]):\n",
    "    \n",
    "    # get length of inputs\n",
    "    lt=len(template)\n",
    "    lp=len(pattern)\n",
    "\n",
    "    # handles edge case if pattern is shorter than template: left pads pattern with zeros\n",
    "    if lp > lt:\n",
    "        zeros = [0]*(lt-lp)                 # zeros used to pad array\n",
    "        template_slice=zeros+template_slice # concatinate lists\n",
    "        lp=len(template_slice)              # update pattern\n",
    "\n",
    "    pat=np.array(pattern)**2                # get the square of the values\n",
    "    ts=np.array(template_slice)**2\n",
    "\n",
    "    norm=np.sqrt(np.outer(ts, pat).sum())   # multiply all elements, sum them then take the square root.\n",
    "\n",
    "    return(norm) "
   ]
  },
  {
   "cell_type": "code",
   "execution_count": 165,
   "metadata": {},
   "outputs": [
    {
     "name": "stdout",
     "output_type": "stream",
     "text": [
      "test passes for input: 6\n"
     ]
    }
   ],
   "source": [
    "expected=6\n",
    "\n",
    "if EnergyNorm() == expected:\n",
    "    print(f'test passes for input: {expected}')\n",
    "else:\n",
    "    print(f'test fails. Expected {expected}, actual: {EnergyNorm()}')"
   ]
  },
  {
   "cell_type": "markdown",
   "metadata": {},
   "source": [
    "# Submission question"
   ]
  },
  {
   "cell_type": "code",
   "execution_count": null,
   "metadata": {},
   "outputs": [],
   "source": []
  },
  {
   "cell_type": "code",
   "execution_count": null,
   "metadata": {},
   "outputs": [],
   "source": []
  }
 ],
 "metadata": {
  "kernelspec": {
   "display_name": "Python 3",
   "language": "python",
   "name": "python3"
  },
  "language_info": {
   "codemirror_mode": {
    "name": "ipython",
    "version": 3
   },
   "file_extension": ".py",
   "mimetype": "text/x-python",
   "name": "python",
   "nbconvert_exporter": "python",
   "pygments_lexer": "ipython3",
   "version": "3.6.10"
  }
 },
 "nbformat": 4,
 "nbformat_minor": 4
}
