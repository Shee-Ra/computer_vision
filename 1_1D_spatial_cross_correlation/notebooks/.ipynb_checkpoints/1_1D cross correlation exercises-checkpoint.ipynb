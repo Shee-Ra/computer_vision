{
 "cells": [
  {
   "cell_type": "code",
   "execution_count": 7,
   "metadata": {},
   "outputs": [],
   "source": [
    "import numpy as np\n",
    "import plotnine as p9\n",
    "import matplotlib.pyplot as plt"
   ]
  },
  {
   "cell_type": "markdown",
   "metadata": {},
   "source": [
    "# Question 1: calculate cross-correlation score\n",
    "\n",
    "Write a function which accepts a pattern and template, and returns a cross-correlation score array using the equation above. A score should be calculated for each location where the pattern and template fully overlap.\n",
    "\n",
    "Given a template $f$ and pattern $g$ where $f,g$ are vectors such that $f,\\,g\\: \\epsilon\\,\\mathbb{R}$, with length $f =n$ and length $g\\ge n$, then the cross correlation $corr(m)$ is:\n",
    "\n",
    "$corr(m)=\\sum_{i=0}^{i=n}\\, f_i . g_{i+m}$,\n",
    "\n",
    "where $m$ is the offset between $f$ and $g$ (and $m\\epsilon\\,\\mathbb{N}$)."
   ]
  },
  {
   "cell_type": "code",
   "execution_count": 8,
   "metadata": {},
   "outputs": [],
   "source": [
    "# Question one: using basic python structures, \n",
    "\n",
    "def CrossCorr(template=[1, 2, 2, 1], pattern=[0, 1, 1, 0, 1, 2, 2, 1, 0, 0, 0]): \n",
    "    '''Calculates the cross correlation of two lists'''\n",
    "    # get length of inputs\n",
    "    lt=len(template)\n",
    "    lp=len(pattern)\n",
    "\n",
    "    # handles edge case if pattern is shorter than template: left pads pattern with zeros\n",
    "    if lp < lt:\n",
    "        zeros = [0]*(lt-lp)   # zero used to pad array\n",
    "        pattern=zeros+pattern # concatinate lists\n",
    "        lp=len(pattern)       # update pattern\n",
    "\n",
    "    # inititalise output\n",
    "    cc=[]\n",
    "    for i in range(lp-lt+1):\n",
    "        # extract four elements from pattern\n",
    "        sub_pattern=[pattern[j] for j in range(i,i+lt)]\n",
    "\n",
    "        # element wise multiplication\n",
    "        eltmult =[sub_pattern[j]*template[j] for j in range(lt)]\n",
    "\n",
    "        # sum to get cross corrlation\n",
    "        cc.append(sum(eltmult))\n",
    "\n",
    "    return(cc)"
   ]
  },
  {
   "cell_type": "code",
   "execution_count": 9,
   "metadata": {},
   "outputs": [
    {
     "name": "stdout",
     "output_type": "stream",
     "text": [
      "Function passes for input: [4, 4, 5, 8, 10, 8, 4, 1]\n"
     ]
    }
   ],
   "source": [
    "# test\n",
    "expected=[4, 4, 5, 8, 10, 8, 4, 1]\n",
    "\n",
    "if CrossCorr() == expected:\n",
    "    print(f'Function passes for input: {expected}')\n",
    "else:\n",
    "    print(f'Function fails. Expected {expected}, actual: {test}')\n"
   ]
  },
  {
   "cell_type": "markdown",
   "metadata": {},
   "source": [
    "In NumPy we can use the `np.correlate` function (with default `mode=valid`) which is similar to $corr(m)$ above when vectors $f,\\,g\\,\\epsilon\\,\\mathbb{R}$\n",
    "\n",
    "Using the definition in the [NumPy documentation](https://numpy.org/doc/stable/reference/generated/numpy.correlate.html), `np.correlate` or $c_{g,f}(m)$ is given by:\n",
    "\n",
    "$c_{g,f}(m)=\\sum_{i=1}^{i=n} g_{i+m} . \\bar{f_i}$,\n",
    "\n",
    "where the bar denotes the conjugate.\n",
    "\n",
    "For $f_i,g_i\\, \\epsilon\\, \\mathbb{R}$, we get the equation above:\n",
    "\n",
    "$c_{g,f}(m)=\\sum_{i=0}^{i=n}\\, f_i . g_{i+m}$,"
   ]
  },
  {
   "cell_type": "code",
   "execution_count": 10,
   "metadata": {},
   "outputs": [],
   "source": [
    "# try with numpy\n",
    "\n",
    "def CrossCorr_np(template=[1, 2, 2, 1], pattern=[0, 1, 1, 0, 1, 2, 2, 1, 0, 0, 0]): \n",
    "    \n",
    "    # get length of inputs\n",
    "    lt=len(template)\n",
    "    lp=len(pattern)\n",
    "    \n",
    "    # handles edge case if pattern is shorter than template: left pads pattern with zeros  (np.correlate treates this edgecase differently that how I want, so I use pad with zeros)\n",
    "    if lp < lt:\n",
    "        zeros = [0]*(lt-lp)   # zero matrix to left pad pattern\n",
    "        pattern=zeros+pattern # concatinate lists\n",
    "        lp=len(pattern)       # update pattern\n",
    "        \n",
    "    cc=np.correlate(a=np.array(pattern),v=np.array(template)) # convert template and pattern to array and take cc\n",
    "    return(list(cc))\n"
   ]
  },
  {
   "cell_type": "code",
   "execution_count": 11,
   "metadata": {},
   "outputs": [
    {
     "name": "stdout",
     "output_type": "stream",
     "text": [
      "Function passes for input: [4, 4, 5, 8, 10, 8, 4, 1]\n"
     ]
    }
   ],
   "source": [
    "# test\n",
    "expected=[4, 4, 5, 8, 10, 8, 4, 1]\n",
    "\n",
    "if CrossCorr_np() == expected:\n",
    "    print(f'Function passes for input: {expected}')\n",
    "else:\n",
    "    print(f'Function fails. Expected {expected}, actual: {CrossCorr}')\n"
   ]
  },
  {
   "cell_type": "markdown",
   "metadata": {},
   "source": [
    "## Part B: Get location of highest score"
   ]
  },
  {
   "cell_type": "code",
   "execution_count": 12,
   "metadata": {},
   "outputs": [],
   "source": [
    "# using data structures\n",
    "def GetIndex(score_array=[4, 4, 5, 8, 10, 8, 4, 1]):\n",
    "    smax=max(score_array)      # find max\n",
    "    si=score_array.index(smax) # get location\n",
    "    return(si,smax)\n",
    "    "
   ]
  },
  {
   "cell_type": "code",
   "execution_count": 13,
   "metadata": {},
   "outputs": [
    {
     "name": "stdout",
     "output_type": "stream",
     "text": [
      "test passes for input: (4, 10)\n"
     ]
    }
   ],
   "source": [
    "# test\n",
    "expected=(4, 10)\n",
    "\n",
    "if GetIndex() == expected:\n",
    "    print(f'test passes for input: {expected}')\n",
    "else:\n",
    "    print(f'test fails. Expected {expected}, actual: {CrossCorr_np()}')"
   ]
  },
  {
   "cell_type": "code",
   "execution_count": 14,
   "metadata": {},
   "outputs": [],
   "source": [
    "# using numpy\n",
    "def GetIndex_np(score_array=[4, 4, 5, 8, 10, 8, 4, 1]):\n",
    "    score_array=np.array(score_array)\n",
    "    smax=score_array.max()      # find max\n",
    "    si=np.where(score_array == np.amax(score_array))[0][0]\n",
    "    return(si,smax)"
   ]
  },
  {
   "cell_type": "code",
   "execution_count": 15,
   "metadata": {},
   "outputs": [
    {
     "name": "stdout",
     "output_type": "stream",
     "text": [
      "test passes for input: (4, 10)\n"
     ]
    }
   ],
   "source": [
    "# test\n",
    "expected=(4, 10)\n",
    "\n",
    "if GetIndex_np() == expected:\n",
    "    print(f'test passes for input: {expected}')\n",
    "else:\n",
    "    print(f'test fails. Expected {expected}, actual: {GetIndex_np()}')"
   ]
  },
  {
   "cell_type": "markdown",
   "metadata": {},
   "source": [
    "# Question 2 & 3: calculate energy norm with zero padding\n",
    "\n",
    "Q2: Write a function which calculates array energy normalisation factor of two arrays. The input to this function is two arrays, where one is the pattern, and one is a slice of the template.  Make sure you have a statement which checks the input arrays are the same length! \n",
    "\n",
    "Where normalisation factor is:\n",
    "\n",
    "$norm_{f,g}=\\sqrt(\\sum)$\n",
    "\n",
    "Q3: Write a function which zero-pads a template array. The inputs to the function are the size of the padding (equal to the pattern length - 1), and the array to be padded.  "
   ]
  },
  {
   "cell_type": "code",
   "execution_count": 16,
   "metadata": {},
   "outputs": [],
   "source": [
    "def EnergyNorm(pattern=[0, 1, 1, 2], template_slice=[1, 1, 0, 2]):\n",
    "    \n",
    "    # get length of inputs\n",
    "    lt=len(template_slice)\n",
    "    lp=len(pattern)\n",
    "\n",
    "    # handles edge case if pattern is shorter than template: left pads pattern with zeros\n",
    "    if lp > lt:\n",
    "        zeros = [0]*(lt-lp)                 # zeros used to pad array\n",
    "        template_slice=zeros+template_slice # concatinate lists\n",
    "        lp=len(template_slice)              # update pattern\n",
    "\n",
    "    pat=(np.array(pattern)**2).sum()        # get the square & sum of vector elements\n",
    "    ts=(np.array(template_slice)**2).sum()\n",
    "\n",
    "    norm=np.sqrt(ts*pat)                    # multiply and take square root.\n",
    "\n",
    "    return(norm) "
   ]
  },
  {
   "cell_type": "code",
   "execution_count": 17,
   "metadata": {},
   "outputs": [
    {
     "name": "stdout",
     "output_type": "stream",
     "text": [
      "test passes for input: 6\n"
     ]
    }
   ],
   "source": [
    "expected=6\n",
    "\n",
    "if EnergyNorm() == expected:\n",
    "    print(f'test passes for input: {expected}')\n",
    "else:\n",
    "    print(f'test fails. Expected {expected}, actual: {EnergyNorm()}')"
   ]
  },
  {
   "cell_type": "markdown",
   "metadata": {},
   "source": [
    "# Submission question\n",
    "\n",
    "Inspecting sensor data for two different sensors"
   ]
  },
  {
   "cell_type": "code",
   "execution_count": 12,
   "metadata": {},
   "outputs": [
    {
     "name": "stdout",
     "output_type": "stream",
     "text": [
      "['Samples', '0.023158', '0.003483', '-0.000041', '0.002630', '0.012172', '0.032942', '0.055654', '0.077297', '0.090299']\n",
      "length:  176402\n"
     ]
    }
   ],
   "source": [
    "# take a peek a the data.\n",
    "text_file = open(\"../data/sensor1Data.txt\", \"r\")\n",
    "lines = text_file.read().split('\\n')\n",
    "print(lines[0:10])\n",
    "print(\"length: \",len(lines))\n",
    "text_file.close()"
   ]
  },
  {
   "cell_type": "code",
   "execution_count": 13,
   "metadata": {},
   "outputs": [],
   "source": [
    "# Load data with numpy, skipping the 'Samples' header\n",
    "s1 = np.loadtxt(\"../data/sensor1Data.txt\", skiprows=1, delimiter=\"\\n\", unpack=False)\n",
    "s2 = np.loadtxt(\"../data/sensor2Data.txt\", skiprows=1, delimiter=\"\\n\", unpack=False)"
   ]
  },
  {
   "cell_type": "code",
   "execution_count": 14,
   "metadata": {},
   "outputs": [
    {
     "data": {
      "text/plain": [
       "[<matplotlib.lines.Line2D at 0x1a24b7ffd0>]"
      ]
     },
     "execution_count": 14,
     "metadata": {},
     "output_type": "execute_result"
    },
    {
     "data": {
      "image/png": "[encoded data removed]",
      "text/plain": [
       "<Figure size 432x288 with 1 Axes>"
      ]
     },
     "metadata": {
      "needs_background": "light"
     },
     "output_type": "display_data"
    }
   ],
   "source": [
    "# check out data from sensor 1\n",
    "plt.plot(s1)"
   ]
  },
  {
   "cell_type": "code",
   "execution_count": 15,
   "metadata": {},
   "outputs": [
    {
     "data": {
      "text/plain": [
       "[<matplotlib.lines.Line2D at 0x1a24b8df28>]"
      ]
     },
     "execution_count": 15,
     "metadata": {},
     "output_type": "execute_result"
    },
    {
     "data": {
      "image/png": "[encoded data removed]",
      "text/plain": [
       "<Figure size 432x288 with 1 Axes>"
      ]
     },
     "metadata": {
      "needs_background": "light"
     },
     "output_type": "display_data"
    }
   ],
   "source": [
    "# check out data from sensor 2\n",
    "plt.plot(s2,color='red')"
   ]
  },
  {
   "cell_type": "code",
   "execution_count": 16,
   "metadata": {},
   "outputs": [
    {
     "data": {
      "text/plain": [
       "[<matplotlib.lines.Line2D at 0x1a24bb2e48>]"
      ]
     },
     "execution_count": 16,
     "metadata": {},
     "output_type": "execute_result"
    },
    {
     "data": {
      "image/png": "[encoded data removed]",
      "text/plain": [
       "<Figure size 432x288 with 1 Axes>"
      ]
     },
     "metadata": {
      "needs_background": "light"
     },
     "output_type": "display_data"
    }
   ],
   "source": [
    "# look at first few points\n",
    "plt.plot(s1[0:100])\n",
    "plt.plot(s2[0:100],color='red')"
   ]
  },
  {
   "cell_type": "code",
   "execution_count": 24,
   "metadata": {},
   "outputs": [
    {
     "data": {
      "text/plain": [
       "(0.988051, -0.992817)"
      ]
     },
     "execution_count": 24,
     "metadata": {},
     "output_type": "execute_result"
    }
   ],
   "source": [
    "# check out some maxes and mins\n",
    "s2.max(),s2.min()"
   ]
  },
  {
   "cell_type": "code",
   "execution_count": 25,
   "metadata": {},
   "outputs": [
    {
     "data": {
      "text/plain": [
       "(0.986346, -0.992589)"
      ]
     },
     "execution_count": 25,
     "metadata": {},
     "output_type": "execute_result"
    }
   ],
   "source": [
    "s1.max(), s1.min()"
   ]
  },
  {
   "cell_type": "markdown",
   "metadata": {},
   "source": [
    "Lets see if I can manually find an exact match - this will tell me if I should look for an exact match of if there's some other noise involved."
   ]
  },
  {
   "cell_type": "code",
   "execution_count": 18,
   "metadata": {},
   "outputs": [
    {
     "data": {
      "text/plain": [
       "True"
      ]
     },
     "execution_count": 18,
     "metadata": {},
     "output_type": "execute_result"
    }
   ],
   "source": [
    "# pick one point\n",
    "s1[50] in s2"
   ]
  },
  {
   "cell_type": "code",
   "execution_count": 19,
   "metadata": {},
   "outputs": [
    {
     "data": {
      "text/plain": [
       "(array([ 50132, 150580]),)"
      ]
     },
     "execution_count": 19,
     "metadata": {},
     "output_type": "execute_result"
    }
   ],
   "source": [
    "# find matching points\n",
    "np.where(s2==s1[50])"
   ]
  },
  {
   "cell_type": "code",
   "execution_count": 20,
   "metadata": {},
   "outputs": [
    {
     "data": {
      "text/plain": [
       "[<matplotlib.lines.Line2D at 0x1a24a7d2b0>]"
      ]
     },
     "execution_count": 20,
     "metadata": {},
     "output_type": "execute_result"
    },
    {
     "data": {
      "image/png": "[encoded data removed]",
      "text/plain": [
       "<Figure size 432x288 with 1 Axes>"
      ]
     },
     "metadata": {
      "needs_background": "light"
     },
     "output_type": "display_data"
    }
   ],
   "source": [
    "# look at first few points - note I've added an offset to the red curve for ease of visual inspection\n",
    "plt.plot(s1[50:150])\n",
    "plt.plot(s2[50132:50232]+0.03,color='red')"
   ]
  },
  {
   "cell_type": "code",
   "execution_count": 21,
   "metadata": {},
   "outputs": [
    {
     "data": {
      "text/plain": [
       "[<matplotlib.lines.Line2D at 0x1a24b43b00>]"
      ]
     },
     "execution_count": 21,
     "metadata": {},
     "output_type": "execute_result"
    },
    {
     "data": {
      "image/png": "[encoded data removed]",
      "text/plain": [
       "<Figure size 432x288 with 1 Axes>"
      ]
     },
     "metadata": {
      "needs_background": "light"
     },
     "output_type": "display_data"
    }
   ],
   "source": [
    "# let's check the second point - appears that there is one point where the signal aligns.\n",
    "plt.plot(s1[50:150])\n",
    "plt.plot(s2[150580:150680],color='red')"
   ]
  },
  {
   "cell_type": "code",
   "execution_count": null,
   "metadata": {},
   "outputs": [],
   "source": []
  }
 ],
 "metadata": {
  "kernelspec": {
   "display_name": "Python 3",
   "language": "python",
   "name": "python3"
  },
  "language_info": {
   "codemirror_mode": {
    "name": "ipython",
    "version": 3
   },
   "file_extension": ".py",
   "mimetype": "text/x-python",
   "name": "python",
   "nbconvert_exporter": "python",
   "pygments_lexer": "ipython3",
   "version": "3.6.10"
  }
 },
 "nbformat": 4,
 "nbformat_minor": 4
}
