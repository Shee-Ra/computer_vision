{
 "cells": [
  {
   "cell_type": "code",
   "execution_count": 4,
   "metadata": {},
   "outputs": [],
   "source": [
    "from pyprojroot import here\n",
    "import os"
   ]
  },
  {
   "cell_type": "code",
   "execution_count": 6,
   "metadata": {},
   "outputs": [
    {
     "name": "stdout",
     "output_type": "stream",
     "text": [
      "current working directory is: /Users/mac/Documents/Projects/computer_vision\n"
     ]
    }
   ],
   "source": [
    "p=here()\n",
    "os.chdir(p)\n",
    "print(f'current working directory is: {os.getcwd()}')"
   ]
  },
  {
   "cell_type": "code",
   "execution_count": 11,
   "metadata": {},
   "outputs": [
    {
     "name": "stderr",
     "output_type": "stream",
     "text": [
      "INFO on line 99: The lag between signals is: 50082.0s, which corresponds to 16677306.0 m \n",
      "INFO on line 100: sample of points used to confirm where s1=s2: 0.35 % (621 points) \n",
      "INFO on line 101: time taken: 1.76 s \n"
     ]
    }
   ],
   "source": [
    "%run 1_1D_spatial_cross_correlation/script_to_get_offset.py"
   ]
  },
  {
   "cell_type": "code",
   "execution_count": null,
   "metadata": {},
   "outputs": [],
   "source": []
  }
 ],
 "metadata": {
  "kernelspec": {
   "display_name": "Python 3",
   "language": "python",
   "name": "python3"
  },
  "language_info": {
   "codemirror_mode": {
    "name": "ipython",
    "version": 3
   },
   "file_extension": ".py",
   "mimetype": "text/x-python",
   "name": "python",
   "nbconvert_exporter": "python",
   "pygments_lexer": "ipython3",
   "version": "3.6.10"
  }
 },
 "nbformat": 4,
 "nbformat_minor": 4
}
